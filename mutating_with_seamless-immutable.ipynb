{
 "cells": [
  {
   "cell_type": "markdown",
   "metadata": {},
   "source": [
    "# Experiences with seamless-immutable\n",
    "\n",
    "On our data the \"dev\" version (that actually does freeze data etc.) was 2-3 slower than the (nearly \"noop\") prod version - f.ex. 2200 ms x 800 ms.\n",
    "=> it is great there are both the dev and prod versions"
   ]
  },
  {
   "cell_type": "markdown",
   "metadata": {},
   "source": [
    "# Modifying data with seamless-immutable"
   ]
  },
  {
   "cell_type": "code",
   "execution_count": 4,
   "metadata": {
    "collapsed": false
   },
   "outputs": [],
   "source": [
    "var Immutable = require('seamless-immutable');"
   ]
  },
  {
   "cell_type": "markdown",
   "metadata": {},
   "source": [
    "## Imutable arrays"
   ]
  },
  {
   "cell_type": "markdown",
   "metadata": {},
   "source": [
    "#### Push, unshift => concat"
   ]
  },
  {
   "cell_type": "code",
   "execution_count": 14,
   "metadata": {
    "collapsed": false
   },
   "outputs": [
    {
     "data": {
      "text/plain": [
       "[ 2, 3 ]"
      ]
     },
     "execution_count": 14,
     "metadata": {},
     "output_type": "execute_result"
    }
   ],
   "source": [
    "var original = Immutable([2]);\n",
    "original.concat([3]);"
   ]
  },
  {
   "cell_type": "code",
   "execution_count": 15,
   "metadata": {
    "collapsed": false
   },
   "outputs": [
    {
     "data": {
      "text/plain": [
       "[ 1, 2 ]"
      ]
     },
     "execution_count": 15,
     "metadata": {},
     "output_type": "execute_result"
    }
   ],
   "source": [
    "Immutable([1]).concat(original);"
   ]
  },
  {
   "cell_type": "markdown",
   "metadata": {},
   "source": [
    "#### Pop => slice"
   ]
  },
  {
   "cell_type": "code",
   "execution_count": 6,
   "metadata": {
    "collapsed": false
   },
   "outputs": [
    {
     "data": {
      "text/plain": [
       "[]"
      ]
     },
     "execution_count": 6,
     "metadata": {},
     "output_type": "execute_result"
    }
   ],
   "source": [
    "Immutable([1]).slice(0,-1);"
   ]
  },
  {
   "cell_type": "markdown",
   "metadata": {},
   "source": [
    "#### Other: splice OK, sort :(, ..."
   ]
  },
  {
   "cell_type": "markdown",
   "metadata": {},
   "source": [
    "# Impractical\n",
    "Mutating nested structures is cumbersome. F.ex. here we want to add a new \"event\" to a log at the last path:"
   ]
  },
  {
   "cell_type": "code",
   "execution_count": 16,
   "metadata": {
    "collapsed": false
   },
   "outputs": [
    {
     "data": {
      "text/plain": [
       "[ { path: '/', log: [] },\n",
       "  { path: '/last', log: [ 'new event' ] } ]"
      ]
     },
     "execution_count": 16,
     "metadata": {},
     "output_type": "execute_result"
    }
   ],
   "source": [
    "var report = Immutable([{path: \"/\", log: []},{path: \"/last\", log: []}]);\n",
    "// Update to [{path: \"/\", log: [\"new event\"]}]; It would be easy if we had updateIn and a curried concat:\n",
    "// var updatedReport = updateIn(report, [report.length - 1, log], concat([\"new event\"]))\n",
    "var oldEntry = report[report.length-1];\n",
    "/*var updatedReport =*/ report.slice(0,-1).concat([\n",
    "    oldEntry.merge({log: oldEntry.log.concat([\"new event\"])})\n",
    "]);"
   ]
  }
 ],
 "metadata": {
  "kernelspec": {
   "display_name": "Javascript (Node.js)",
   "language": "javascript",
   "name": "javascript"
  },
  "language_info": {
   "file_extension": "js",
   "mimetype": "application/javascript",
   "name": "javascript",
   "version": "0.10.38"
  }
 },
 "nbformat": 4,
 "nbformat_minor": 0
}
