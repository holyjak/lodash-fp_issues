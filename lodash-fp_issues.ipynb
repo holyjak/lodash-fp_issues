{
 "cells": [
  {
   "cell_type": "markdown",
   "metadata": {},
   "source": [
    "# Issues with lodash-fp\n",
    "\n",
    "`lodash-fp` is nice but some functions do not work as well as they did in lodash itself."
   ]
  },
  {
   "cell_type": "code",
   "execution_count": null,
   "metadata": {
    "collapsed": true
   },
   "outputs": [],
   "source": [
    "var _ = require('lodash-fp');"
   ]
  },
  {
   "cell_type": "markdown",
   "metadata": {},
   "source": [
    "### zipObject(pairs) is broken\n",
    "\n",
    "`zipObject([key, val, key2, val2, ..])` does not work anymore - it returns a fn expecting the vals array:"
   ]
  },
  {
   "cell_type": "code",
   "execution_count": 2,
   "metadata": {
    "collapsed": false
   },
   "outputs": [
    {
     "data": {
      "text/plain": [
       "{ [Function: wrapper]\n",
       "  placeholder: \n",
       "   { [Function: lodash]\n",
       "     support: \n",
       "      { argsTag: true,\n",
       "        enumErrorProps: false,\n",
       "        enumPrototypes: false,\n",
       "        nodeTag: true,\n",
       "        nonEnumShadows: false,\n",
       "        ownLast: false,\n",
       "        spliceObjects: true,\n",
       "        unindexedChars: false,\n",
       "        dom: false },\n",
       "     templateSettings: \n",
       "      { escape: /<%-([\\s\\S]+?)%>/g,\n",
       "        evaluate: /<%([\\s\\S]+?)%>/g,\n",
       "        interpolate: /<%=([\\s\\S]+?)%>/g,\n",
       "        variable: '',\n",
       "        imports: [Object] },\n",
       "     after: { [Function: wrapper] placeholder: [Circular] },\n",
       "     ary: { [Function: wrapper] placeholder: [Circular] },\n",
       "     assign: { [Function: wrapper] placeholder: [Circular] },\n",
       "     at: { [Function: wrapper] placeholder: [Circular] },\n",
       "     before: { [Function: wrapper] placeholder: [Circular] },\n",
       "     bind: { [Function: wrapper] placeholder: [Circular] },\n",
       "     bindAll: [Function],\n",
       "     bindKey: { [Function: wrapper] placeholder: [Circular] },\n",
       "     callback: [Function],\n",
       "     chain: [Function: chain],\n",
       "     chunk: { [Function: wrapper] placeholder: [Circular] },\n",
       "     compact: [Function: compact],\n",
       "     constant: [Function: constant],\n",
       "     countBy: { [Function: wrapper] placeholder: [Circular] },\n",
       "     create: { [Function: wrapper] placeholder: [Circular] },\n",
       "     curry: { [Function: wrapper] placeholder: [Circular] },\n",
       "     curryRight: { [Function: curryFunc] placeholder: [Circular] },\n",
       "     debounce: { [Function: wrapper] placeholder: [Circular] },\n",
       "     defaults: { [Function: wrapper] placeholder: [Circular] },\n",
       "     defer: [Function],\n",
       "     delay: { [Function: wrapper] placeholder: [Circular] },\n",
       "     difference: { [Function: wrapper] placeholder: [Circular] },\n",
       "     drop: { [Function: wrapper] placeholder: [Circular] },\n",
       "     dropRight: { [Function: wrapper] placeholder: [Circular] },\n",
       "     dropRightWhile: { [Function: wrapper] placeholder: [Circular] },\n",
       "     dropWhile: { [Function: wrapper] placeholder: [Circular] },\n",
       "     fill: { [Function: wrapper] placeholder: [Circular] },\n",
       "     filter: { [Function: wrapper] placeholder: [Circular] },\n",
       "     flatten: { [Function: wrapper] placeholder: [Circular] },\n",
       "     flattenDeep: [Function: flattenDeep],\n",
       "     flow: [Function],\n",
       "     flowRight: [Function],\n",
       "     forEach: { [Function: wrapper] placeholder: [Circular] },\n",
       "     forEachRight: { [Function: wrapper] placeholder: [Circular] },\n",
       "     forIn: { [Function: wrapper] placeholder: [Circular] },\n",
       "     forInRight: { [Function: wrapper] placeholder: [Circular] },\n",
       "     forOwn: { [Function: wrapper] placeholder: [Circular] },\n",
       "     forOwnRight: { [Function: wrapper] placeholder: [Circular] },\n",
       "     functions: [Function: functions],\n",
       "     groupBy: { [Function: wrapper] placeholder: [Circular] },\n",
       "     indexBy: { [Function: wrapper] placeholder: [Circular] },\n",
       "     initial: [Function: initial],\n",
       "     intersection: { [Function: wrapper] placeholder: [Circular] },\n",
       "     invert: { [Function: wrapper] placeholder: [Circular] },\n",
       "     invoke: { [Function: wrapper] placeholder: [Circular] },\n",
       "     keys: [Function],\n",
       "     keysIn: [Function: keysIn],\n",
       "     map: { [Function: wrapper] placeholder: [Circular] },\n",
       "     mapKeys: { [Function: wrapper] placeholder: [Circular] },\n",
       "     mapValues: { [Function: wrapper] placeholder: [Circular] },\n",
       "     matches: [Function: matches],\n",
       "     matchesProperty: { [Function: wrapper] placeholder: [Circular] },\n",
       "     memoize: { [Function: wrapper] placeholder: [Circular] },\n",
       "     merge: { [Function: wrapper] placeholder: [Circular] },\n",
       "     method: { [Function: wrapper] placeholder: [Circular] },\n",
       "     methodOf: { [Function: wrapper] placeholder: [Circular] },\n",
       "     mixin: [Function],\n",
       "     negate: [Function: negate],\n",
       "     omit: { [Function: wrapper] placeholder: [Circular] },\n",
       "     once: [Function: once],\n",
       "     pairs: [Function: pairs],\n",
       "     partial: { [Function] placeholder: [Circular] },\n",
       "     partialRight: { [Function] placeholder: [Circular] },\n",
       "     partition: { [Function: wrapper] placeholder: [Circular] },\n",
       "     pick: { [Function: wrapper] placeholder: [Circular] },\n",
       "     pluck: { [Function: wrapper] placeholder: [Circular] },\n",
       "     property: [Function: property],\n",
       "     propertyOf: [Function: propertyOf],\n",
       "     pull: { [Function: wrapper] placeholder: [Circular] },\n",
       "     pullAt: { [Function: wrapper] placeholder: [Circular] },\n",
       "     range: { [Function: wrapper] placeholder: [Circular] },\n",
       "     rearg: { [Function: wrapper] placeholder: [Circular] },\n",
       "     reject: { [Function: wrapper] placeholder: [Circular] },\n",
       "     remove: { [Function: wrapper] placeholder: [Circular] },\n",
       "     rest: [Function: rest],\n",
       "     restParam: { [Function: wrapper] placeholder: [Circular] },\n",
       "     set: { [Function: wrapper] placeholder: [Circular] },\n",
       "     shuffle: [Function: shuffle],\n",
       "     slice: { [Function: wrapper] placeholder: [Circular] },\n",
       "     sortBy: { [Function: wrapper] placeholder: [Circular] },\n",
       "     sortByAll: { [Function: wrapper] placeholder: [Circular] },\n",
       "     sortByOrder: { [Function: wrapper] placeholder: [Circular] },\n",
       "     spread: [Function: spread],\n",
       "     take: { [Function: wrapper] placeholder: [Circular] },\n",
       "     takeRight: { [Function: wrapper] placeholder: [Circular] },\n",
       "     takeRightWhile: { [Function: wrapper] placeholder: [Circular] },\n",
       "     takeWhile: { [Function: wrapper] placeholder: [Circular] },\n",
       "     tap: [Function: tap],\n",
       "     throttle: { [Function: wrapper] placeholder: [Circular] },\n",
       "     thru: [Function: thru],\n",
       "     times: { [Function: wrapper] placeholder: [Circular] },\n",
       "     toArray: [Function: toArray],\n",
       "     toPlainObject: [Function: toPlainObject],\n",
       "     transform: { [Function: wrapper] placeholder: [Circular] },\n",
       "     union: { [Function: wrapper] placeholder: [Circular] },\n",
       "     uniq: { [Function: wrapper] placeholder: [Circular] },\n",
       "     unzip: [Function: unzip],\n",
       "     unzipWith: { [Function: wrapper] placeholder: [Circular] },\n",
       "     values: [Function: values],\n",
       "     valuesIn: [Function: valuesIn],\n",
       "     where: { [Function: wrapper] placeholder: [Circular] },\n",
       "     without: { [Function: wrapper] placeholder: [Circular] },\n",
       "     wrap: { [Function: wrapper] placeholder: [Circular] },\n",
       "     xor: { [Function: wrapper] placeholder: [Circular] },\n",
       "     zip: { [Function: wrapper] placeholder: [Circular] },\n",
       "     zipObject: { [Function: wrapper] placeholder: [Circular] },\n",
       "     zipWith: { [Function: wrapper] placeholder: [Circular] },\n",
       "     backflow: [Function],\n",
       "     collect: { [Function: wrapper] placeholder: [Circular] },\n",
       "     compose: [Function],\n",
       "     each: { [Function: wrapper] placeholder: [Circular] },\n",
       "     eachRight: { [Function: wrapper] placeholder: [Circular] },\n",
       "     extend: { [Function: wrapper] placeholder: [Circular] },\n",
       "     iteratee: [Function],\n",
       "     methods: [Function: functions],\n",
       "     object: { [Function: wrapper] placeholder: [Circular] },\n",
       "     select: { [Function: wrapper] placeholder: [Circular] },\n",
       "     tail: [Function: rest],\n",
       "     unique: { [Function: wrapper] placeholder: [Circular] },\n",
       "     add: { [Function: wrapper] placeholder: [Circular] },\n",
       "     attempt: { [Function: wrapper] placeholder: [Circular] },\n",
       "     camelCase: [Function],\n",
       "     capitalize: [Function: capitalize],\n",
       "     clone: { [Function: wrapper] placeholder: [Circular] },\n",
       "     cloneDeep: [Function: cloneDeep],\n",
       "     deburr: [Function: deburr],\n",
       "     endsWith: { [Function: wrapper] placeholder: [Circular] },\n",
       "     escape: [Function: escape],\n",
       "     escapeRegExp: [Function: escapeRegExp],\n",
       "     every: { [Function: wrapper] placeholder: [Circular] },\n",
       "     find: { [Function: wrapper] placeholder: [Circular] },\n",
       "     findIndex: { [Function: wrapper] placeholder: [Circular] },\n",
       "     findKey: { [Function: wrapper] placeholder: [Circular] },\n",
       "     findLast: { [Function: wrapper] placeholder: [Circular] },\n",
       "     findLastIndex: { [Function: wrapper] placeholder: [Circular] },\n",
       "     findLastKey: { [Function: wrapper] placeholder: [Circular] },\n",
       "     findWhere: { [Function: wrapper] placeholder: [Circular] },\n",
       "     first: [Function: first],\n",
       "     get: [Function: get],\n",
       "     gt: { [Function: wrapper] placeholder: [Circular] },\n",
       "     gte: { [Function: wrapper] placeholder: [Circular] },\n",
       "     has: { [Function: wrapper] placeholder: [Circular] },\n",
       "     identity: [Function: identity],\n",
       "     includes: { [Function: wrapper] placeholder: [Circular] },\n",
       "     indexOf: { [Function: wrapper] placeholder: [Circular] },\n",
       "     inRange: { [Function: wrapper] placeholder: [Circular] },\n",
       "     isArguments: [Function: isArguments],\n",
       "     isArray: [Function: isArray],\n",
       "     isBoolean: [Function: isBoolean],\n",
       "     isDate: [Function: isDate],\n",
       "     isElement: [Function],\n",
       "     isEmpty: [Function: isEmpty],\n",
       "     isEqual: { [Function: wrapper] placeholder: [Circular] },\n",
       "     isError: [Function: isError],\n",
       "     isFinite: [Function: isFinite],\n",
       "     isFunction: [Function: baseIsFunction],\n",
       "     isMatch: { [Function: wrapper] placeholder: [Circular] },\n",
       "     isNaN: [Function: isNaN],\n",
       "     isNative: [Function: isNative],\n",
       "     isNull: [Function: isNull],\n",
       "     isNumber: [Function: isNumber],\n",
       "     isObject: [Function: isObject],\n",
       "     isPlainObject: [Function],\n",
       "     isRegExp: [Function: isRegExp],\n",
       "     isString: [Function: isString],\n",
       "     isTypedArray: [Function: isTypedArray],\n",
       "     isUndefined: [Function: isUndefined],\n",
       "     kebabCase: [Function],\n",
       "     last: [Function: last],\n",
       "     lastIndexOf: { [Function: wrapper] placeholder: [Circular] },\n",
       "     lt: { [Function: wrapper] placeholder: [Circular] },\n",
       "     lte: { [Function: wrapper] placeholder: [Circular] },\n",
       "     max: { [Function: wrapper] placeholder: [Circular] },\n",
       "     min: { [Function: wrapper] placeholder: [Circular] },\n",
       "     noConflict: [Function: noConflict],\n",
       "     noop: [Function: noop],\n",
       "     now: [Function: now],\n",
       "     pad: { [Function: wrapper] placeholder: [Circular] },\n",
       "     padLeft: { [Function: wrapper] placeholder: [Circular] },\n",
       "     padRight: { [Function: wrapper] placeholder: [Circular] },\n",
       "     parseInt: { [Function: wrapper] placeholder: [Circular] },\n",
       "     random: { [Function: wrapper] placeholder: [Circular] },\n",
       "     reduce: { [Function: wrapper] placeholder: [Circular] },\n",
       "     reduceRight: { [Function: wrapper] placeholder: [Circular] },\n",
       "     repeat: { [Function: wrapper] placeholder: [Circular] },\n",
       "     result: { [Function: wrapper] placeholder: [Circular] },\n",
       "     runInContext: [Function],\n",
       "     size: [Function: size],\n",
       "     snakeCase: [Function],\n",
       "     some: { [Function: wrapper] placeholder: [Circular] },\n",
       "     sortedIndex: { [Function: wrapper] placeholder: [Circular] },\n",
       "     sortedLastIndex: { [Function: wrapper] placeholder: [Circular] },\n",
       "     startCase: [Function],\n",
       "     startsWith: { [Function: wrapper] placeholder: [Circular] },\n",
       "     sum: { [Function: wrapper] placeholder: [Circular] },\n",
       "     template: { [Function: wrapper] placeholder: [Circular] },\n",
       "     trim: { [Function: wrapper] placeholder: [Circular] },\n",
       "     trimLeft: { [Function: wrapper] placeholder: [Circular] },\n",
       "     trimRight: { [Function: wrapper] placeholder: [Circular] },\n",
       "     trunc: { [Function: wrapper] placeholder: [Circular] },\n",
       "     unescape: [Function: unescape],\n",
       "     uniqueId: { [Function: wrapper] placeholder: [Circular] },\n",
       "     words: { [Function: wrapper] placeholder: [Circular] },\n",
       "     all: { [Function: wrapper] placeholder: [Circular] },\n",
       "     any: { [Function: wrapper] placeholder: [Circular] },\n",
       "     contains: { [Function: wrapper] placeholder: [Circular] },\n",
       "     eq: { [Function: wrapper] placeholder: [Circular] },\n",
       "     detect: { [Function: wrapper] placeholder: [Circular] },\n",
       "     foldl: { [Function: wrapper] placeholder: [Circular] },\n",
       "     foldr: { [Function: wrapper] placeholder: [Circular] },\n",
       "     head: [Function: first],\n",
       "     include: { [Function: wrapper] placeholder: [Circular] },\n",
       "     inject: { [Function: wrapper] placeholder: [Circular] },\n",
       "     sample: { [Function: wrapper] placeholder: [Circular] },\n",
       "     VERSION: '3.9.3',\n",
       "     curryN: { [Function: wrapper] placeholder: [Circular] },\n",
       "     maxBy: { [Function: wrapper] placeholder: [Circular] },\n",
       "     minBy: { [Function: wrapper] placeholder: [Circular] },\n",
       "     sumBy: { [Function: wrapper] placeholder: [Circular] },\n",
       "     uniqBy: { [Function: wrapper] placeholder: [Circular] } } }"
      ]
     },
     "execution_count": 2,
     "metadata": {},
     "output_type": "execute_result"
    }
   ],
   "source": [
    "_.zipObject([\"key\", \"val\"]); // expected => {key: \"val\"}"
   ]
  },
  {
   "cell_type": "markdown",
   "metadata": {},
   "source": [
    "### No way to provide the default value to `result`?!\n",
    "\n",
    "In lodash, `_.result({}, \"noSuchProperty\", \"default\")` returns `\"default\"`.\n",
    "In lodash-fp we put the object to the end but there is no (clear) way to provide the default param:"
   ]
  },
  {
   "cell_type": "code",
   "execution_count": 3,
   "metadata": {
    "collapsed": false
   },
   "outputs": [
    {
     "data": {
      "text/plain": [
       "[ undefined, undefined, undefined, undefined ]"
      ]
     },
     "execution_count": 3,
     "metadata": {},
     "output_type": "execute_result"
    }
   ],
   "source": [
    "[_.result(\"default\", \"noSuchProperty\", {}), \n",
    " _.result(\"noSuchProperty\", \"default\", {}), \n",
    " _.result(\"noSuchProperty\", {}, \"default\")]"
   ]
  },
  {
   "cell_type": "markdown",
   "metadata": {},
   "source": [
    "### `assign` behaves strangely\n",
    "\n",
    "The correct way to call `assign` in lodash-fp is with the object being changed in the last position:"
   ]
  },
  {
   "cell_type": "code",
   "execution_count": 5,
   "metadata": {
    "collapsed": false
   },
   "outputs": [
    {
     "data": {
      "text/plain": [
       "{ b: 2, a: 1 }"
      ]
     },
     "execution_count": 5,
     "metadata": {},
     "output_type": "execute_result"
    }
   ],
   "source": [
    "_.assign({a:1}, {b:2}, {}); // => {a:1, b:2} as expected"
   ]
  },
  {
   "cell_type": "markdown",
   "metadata": {},
   "source": [
    "However if we by a chance put an empty object to the first place, we get something weird:"
   ]
  },
  {
   "cell_type": "code",
   "execution_count": 7,
   "metadata": {
    "collapsed": false
   },
   "outputs": [
    {
     "data": {
      "text/plain": [
       "{ a: 1 }"
      ]
     },
     "execution_count": 7,
     "metadata": {},
     "output_type": "execute_result"
    }
   ],
   "source": [
    "_.assign({}, {a:1}, {b:2}); // expected: {a:1, b:2} (where the input a:1 object is modified)"
   ]
  },
  {
   "cell_type": "code",
   "execution_count": null,
   "metadata": {
    "collapsed": true
   },
   "outputs": [],
   "source": []
  }
 ],
 "metadata": {
  "kernelspec": {
   "display_name": "Javascript (Node.js)",
   "language": "javascript",
   "name": "javascript"
  },
  "language_info": {
   "file_extension": "js",
   "mimetype": "application/javascript",
   "name": "javascript",
   "version": "0.10.38"
  }
 },
 "nbformat": 4,
 "nbformat_minor": 0
}
