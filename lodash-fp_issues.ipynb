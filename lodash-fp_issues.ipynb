{
 "cells": [
  {
   "cell_type": "markdown",
   "metadata": {},
   "source": [
    "# Issues with lodash-fp\n",
    "\n",
    "`lodash-fp` is nice but some functions do not work as well as they did in lodash itself.\n",
    "\n",
    "Created to accompany the [bug report 1343](https://github.com/lodash/lodash/issues/1343)."
   ]
  },
  {
   "cell_type": "code",
   "execution_count": 2,
   "metadata": {
    "collapsed": false
   },
   "outputs": [
    {
     "data": {
      "text/plain": [
       "undefined"
      ]
     },
     "execution_count": 2,
     "metadata": {},
     "output_type": "execute_result"
    }
   ],
   "source": [
    "var _ = require('lodash-fp');\n",
    "var lodash = require('lodash');"
   ]
  },
  {
   "cell_type": "markdown",
   "metadata": {},
   "source": [
    "### No way to provide the default value to `result`?!\n",
    "\n",
    "In lodash, `_.result({}, \"noSuchProperty\", \"default\")` returns `\"default\"`.\n",
    "In lodash-fp we put the object to the end but there is no (clear) way to provide the default param:"
   ]
  },
  {
   "cell_type": "code",
   "execution_count": 3,
   "metadata": {
    "collapsed": false
   },
   "outputs": [
    {
     "data": {
      "text/plain": [
       "[ undefined, undefined, undefined, undefined ]"
      ]
     },
     "execution_count": 3,
     "metadata": {},
     "output_type": "execute_result"
    }
   ],
   "source": [
    "[_.result(\"default\", \"noSuchProperty\", {}), \n",
    " _.result(\"noSuchProperty\", \"default\", {}), \n",
    " _.result(\"noSuchProperty\", {}, \"default\")]"
   ]
  },
  {
   "cell_type": "markdown",
   "metadata": {},
   "source": [
    "### `assign` behaves strangely\n",
    "\n",
    "The correct way to call `assign` in lodash-fp is with the object being changed in the last position:"
   ]
  },
  {
   "cell_type": "code",
   "execution_count": 5,
   "metadata": {
    "collapsed": false
   },
   "outputs": [
    {
     "data": {
      "text/plain": [
       "{ b: 2, a: 1 }"
      ]
     },
     "execution_count": 5,
     "metadata": {},
     "output_type": "execute_result"
    }
   ],
   "source": [
    "_.assign({a:1}, {b:2}, {}); // => {a:1, b:2} as expected"
   ]
  },
  {
   "cell_type": "markdown",
   "metadata": {},
   "source": [
    "However if we by a chance put an empty object to the first place, we get something weird:"
   ]
  },
  {
   "cell_type": "code",
   "execution_count": 7,
   "metadata": {
    "collapsed": false
   },
   "outputs": [
    {
     "data": {
      "text/plain": [
       "{ a: 1 }"
      ]
     },
     "execution_count": 7,
     "metadata": {},
     "output_type": "execute_result"
    }
   ],
   "source": [
    "_.assign({}, {a:1}, {b:2}); // expected: {a:1, b:2} (where the input a:1 object is modified)"
   ]
  },
  {
   "cell_type": "code",
   "execution_count": null,
   "metadata": {
    "collapsed": true
   },
   "outputs": [],
   "source": []
  },
  {
   "cell_type": "markdown",
   "metadata": {},
   "source": [
    "### zipObject(pairs) is broken\n",
    "\n",
    "`zipObject([key, val, key2, val2, ..])` does not work anymore - it returns a fn expecting the vals array:"
   ]
  },
  {
   "cell_type": "code",
   "execution_count": null,
   "metadata": {
    "collapsed": false,
    "scrolled": true
   },
   "outputs": [],
   "source": [
    "_.zipObject([\"key\", \"val\"]); // expected => {key: \"val\"}"
   ]
  },
  {
   "cell_type": "markdown",
   "metadata": {},
   "source": [
    "### Some (all?) functions processing objects get only the value, not the key param:\n",
    "\n",
    "#### Find on objects doesn't get the key parameter"
   ]
  },
  {
   "cell_type": "code",
   "execution_count": 3,
   "metadata": {
    "collapsed": false
   },
   "outputs": [
    {
     "name": "stdout",
     "output_type": "stream",
     "text": [
      "val key { key: 'val' }\n"
     ]
    },
    {
     "data": {
      "text/plain": [
       "undefined"
      ]
     },
     "execution_count": 3,
     "metadata": {},
     "output_type": "execute_result"
    }
   ],
   "source": [
    "lodash.find({key:\"val\"}, console.log.bind(console)) // => value, key, the whole object"
   ]
  },
  {
   "cell_type": "code",
   "execution_count": 5,
   "metadata": {
    "collapsed": false
   },
   "outputs": [
    {
     "name": "stdout",
     "output_type": "stream",
     "text": [
      "val\n"
     ]
    },
    {
     "data": {
      "text/plain": [
       "undefined"
      ]
     },
     "execution_count": 5,
     "metadata": {},
     "output_type": "execute_result"
    }
   ],
   "source": [
    "_.find(console.log.bind(console), {key:\"val\"}) // => only val :-("
   ]
  },
  {
   "cell_type": "markdown",
   "metadata": {
    "collapsed": true
   },
   "source": [
    "#### the same applies for map"
   ]
  },
  {
   "cell_type": "code",
   "execution_count": 8,
   "metadata": {
    "collapsed": false
   },
   "outputs": [
    {
     "name": "stdout",
     "output_type": "stream",
     "text": [
      "lodash-fp - key only:  1\n",
      "lodash - key, val, obj:  1 a { a: 1 }\n"
     ]
    },
    {
     "data": {
      "text/plain": [
       "{ a: undefined }"
      ]
     },
     "execution_count": 8,
     "metadata": {},
     "output_type": "execute_result"
    }
   ],
   "source": [
    "_.map(_.partial(console.log.bind(console), \"lodash-fp - key only: \"), {a:1})\n",
    "lodash.map({a:1}, _.partial(console.log.bind(console), \"lodash - key, val, obj: \"))"
   ]
  },
  {
   "cell_type": "markdown",
   "metadata": {},
   "source": [
    "#### and mapValues"
   ]
  },
  {
   "cell_type": "code",
   "execution_count": 9,
   "metadata": {
    "collapsed": false
   },
   "outputs": [
    {
     "name": "stdout",
     "output_type": "stream",
     "text": [
      "lodash-fp - key only:  1\n",
      "lodash - key, val, obj:  1 a { a: 1 }\n"
     ]
    },
    {
     "data": {
      "text/plain": [
       "{ a: undefined }"
      ]
     },
     "execution_count": 9,
     "metadata": {},
     "output_type": "execute_result"
    }
   ],
   "source": [
    "_.mapValues(_.partial(console.log.bind(console), \"lodash-fp - key only: \"), {a:1})\n",
    "lodash.mapValues({a:1}, _.partial(console.log.bind(console), \"lodash - key, val, obj: \"))"
   ]
  },
  {
   "cell_type": "code",
   "execution_count": null,
   "metadata": {
    "collapsed": true
   },
   "outputs": [],
   "source": []
  }
 ],
 "metadata": {
  "kernelspec": {
   "display_name": "Javascript (Node.js)",
   "language": "javascript",
   "name": "javascript"
  },
  "language_info": {
   "file_extension": "js",
   "mimetype": "application/javascript",
   "name": "javascript",
   "version": "0.10.38"
  }
 },
 "nbformat": 4,
 "nbformat_minor": 0
}
